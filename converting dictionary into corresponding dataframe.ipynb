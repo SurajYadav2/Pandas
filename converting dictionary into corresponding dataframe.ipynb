{
 "cells": [
  {
   "cell_type": "code",
   "execution_count": 2,
   "id": "95d8eab6",
   "metadata": {},
   "outputs": [],
   "source": [
    "import pandas as pd"
   ]
  },
  {
   "cell_type": "code",
   "execution_count": 5,
   "id": "8c722f06",
   "metadata": {},
   "outputs": [],
   "source": [
    "# Given dictionary\n",
    "data_dict = {\n",
    "    'name': ['Vinay', 'Kushal', 'Aman'],\n",
    "    'age': [22, 25, 24],\n",
    "    'occ': ['engineer', 'doctor', 'accountant']}"
   ]
  },
  {
   "cell_type": "code",
   "execution_count": 8,
   "id": "9ef97f69",
   "metadata": {},
   "outputs": [
    {
     "name": "stdout",
     "output_type": "stream",
     "text": [
      "     name  age         occ\n",
      "0   Vinay   22    engineer\n",
      "1  Kushal   25      doctor\n",
      "2    Aman   24  accountant\n"
     ]
    }
   ],
   "source": [
    "# Create a DataFrame from the dictionary\n",
    "df = pd.DataFrame(data_dict)\n",
    "\n",
    "\n",
    "# Display the DataFrame\n",
    "print(df)"
   ]
  }
 ],
 "metadata": {
  "kernelspec": {
   "display_name": "Python 3 (ipykernel)",
   "language": "python",
   "name": "python3"
  },
  "language_info": {
   "codemirror_mode": {
    "name": "ipython",
    "version": 3
   },
   "file_extension": ".py",
   "mimetype": "text/x-python",
   "name": "python",
   "nbconvert_exporter": "python",
   "pygments_lexer": "ipython3",
   "version": "3.11.3"
  }
 },
 "nbformat": 4,
 "nbformat_minor": 5
}
