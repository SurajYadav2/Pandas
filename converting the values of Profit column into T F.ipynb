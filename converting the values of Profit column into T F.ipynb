{
 "cells": [
  {
   "cell_type": "raw",
   "id": "ba2104b5",
   "metadata": {},
   "source": [
    "Given is a dataframe showing Company Names (cname) and corresponding Profits (profit). WAP to convert the values of Profit column such that values in it greater than 0 are set to True and the rest are set to False.\n",
    "\n",
    "                               cname                   profit\n",
    "\n",
    "0                           Shyam & Co.                -10000\n",
    "\n",
    "1                           Ramlal & Bros.              10000\n",
    "\n",
    "2                          Sharma Enterprises          -5000\n",
    "\n",
    "3                          Verma Furnitures             15000\n",
    "\n",
    "4                          Rahul Stores                 20000"
   ]
  },
  {
   "cell_type": "code",
   "execution_count": 2,
   "id": "93016dfe",
   "metadata": {},
   "outputs": [],
   "source": [
    "import pandas as pd"
   ]
  },
  {
   "cell_type": "code",
   "execution_count": 5,
   "id": "18d0dca6",
   "metadata": {},
   "outputs": [],
   "source": [
    "# Create the DataFrame\n",
    "data = {\n",
    "    'cname': ['Shyam & Co.', 'Ramlal & Bros.', 'Sharma Enterprises', 'Verma Furnitures', 'Rahul Stores'],\n",
    "    'profit': [-10000, 10000, -5000, 15000, 20000]}\n",
    "\n",
    "df = pd.DataFrame(data)"
   ]
  },
  {
   "cell_type": "code",
   "execution_count": 7,
   "id": "04bcaba3",
   "metadata": {},
   "outputs": [],
   "source": [
    "\n",
    "# Define a function to convert profits to True/False\n",
    "def convert_to_boolean(profit):\n",
    "    return profit > 0"
   ]
  },
  {
   "cell_type": "code",
   "execution_count": 9,
   "id": "04546dcf",
   "metadata": {},
   "outputs": [
    {
     "name": "stdout",
     "output_type": "stream",
     "text": [
      "                cname  profit  is_profitable\n",
      "0         Shyam & Co.  -10000          False\n",
      "1      Ramlal & Bros.   10000           True\n",
      "2  Sharma Enterprises   -5000          False\n",
      "3    Verma Furnitures   15000           True\n",
      "4        Rahul Stores   20000           True\n"
     ]
    }
   ],
   "source": [
    "# Apply the function to the 'profit' column and create a new 'is_profitable' column\n",
    "df['is_profitable'] = df['profit'].apply(lambda x: convert_to_boolean(x))\n",
    "print(df)"
   ]
  }
 ],
 "metadata": {
  "kernelspec": {
   "display_name": "Python 3 (ipykernel)",
   "language": "python",
   "name": "python3"
  },
  "language_info": {
   "codemirror_mode": {
    "name": "ipython",
    "version": 3
   },
   "file_extension": ".py",
   "mimetype": "text/x-python",
   "name": "python",
   "nbconvert_exporter": "python",
   "pygments_lexer": "ipython3",
   "version": "3.11.3"
  }
 },
 "nbformat": 4,
 "nbformat_minor": 5
}
