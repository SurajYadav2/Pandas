{
 "cells": [
  {
   "cell_type": "raw",
   "id": "128e84fc",
   "metadata": {},
   "source": [
    "WAP to generate the statistical summary of all the numerical features present in the given dataframe.\n",
    "\n",
    "eid                         ename                 stipend               position\n",
    "\n",
    "0    1                      Sid                    10000                employee\n",
    "\n",
    "1    2                      Ramesh                 10000                employee\n",
    "\n",
    "2    3                      Ron                    5000                 intern\n",
    "\n",
    "3    4                      Harry                  15000                senior_employee"
   ]
  },
  {
   "cell_type": "code",
   "execution_count": 2,
   "id": "47115637",
   "metadata": {},
   "outputs": [],
   "source": [
    "import pandas as pd"
   ]
  },
  {
   "cell_type": "code",
   "execution_count": 5,
   "id": "21d1bde9",
   "metadata": {},
   "outputs": [],
   "source": [
    "data = {\n",
    "    'eid': [1, 2, 3, 4],\n",
    "    'ename': ['Sid', 'Ramesh', 'Ron', 'Harry'],\n",
    "    'stipend': [10000, 10000, 5000, 15000],\n",
    "    'position': ['employee', 'employee', 'intern', 'senior_employee']}\n",
    "df = pd.DataFrame(data)"
   ]
  },
  {
   "cell_type": "code",
   "execution_count": 6,
   "id": "78e540c5",
   "metadata": {},
   "outputs": [
    {
     "name": "stdout",
     "output_type": "stream",
     "text": [
      "            eid       stipend\n",
      "count  4.000000      4.000000\n",
      "mean   2.500000  10000.000000\n",
      "std    1.290994   4082.482905\n",
      "min    1.000000   5000.000000\n",
      "25%    1.750000   8750.000000\n",
      "50%    2.500000  10000.000000\n",
      "75%    3.250000  11250.000000\n",
      "max    4.000000  15000.000000\n"
     ]
    }
   ],
   "source": [
    "# Generate the statistical summary for numerical features\n",
    "numerical_summary = df.describe()\n",
    "print(numerical_summary)"
   ]
  }
 ],
 "metadata": {
  "kernelspec": {
   "display_name": "Python 3 (ipykernel)",
   "language": "python",
   "name": "python3"
  },
  "language_info": {
   "codemirror_mode": {
    "name": "ipython",
    "version": 3
   },
   "file_extension": ".py",
   "mimetype": "text/x-python",
   "name": "python",
   "nbconvert_exporter": "python",
   "pygments_lexer": "ipython3",
   "version": "3.11.3"
  }
 },
 "nbformat": 4,
 "nbformat_minor": 5
}
