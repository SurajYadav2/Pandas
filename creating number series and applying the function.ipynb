{
 "cells": [
  {
   "cell_type": "code",
   "execution_count": 2,
   "id": "3bbab297",
   "metadata": {},
   "outputs": [],
   "source": [
    "import pandas as pd"
   ]
  },
  {
   "cell_type": "code",
   "execution_count": 4,
   "id": "ef8ffd98",
   "metadata": {},
   "outputs": [],
   "source": [
    "# Create a pandas Series with a number sequence (e.g., 1 to 10)\n",
    "number_series = pd.Series(range(1, 11))"
   ]
  },
  {
   "cell_type": "code",
   "execution_count": 6,
   "id": "b68041e5",
   "metadata": {},
   "outputs": [],
   "source": [
    "# Define the function f(x) = x/2\n",
    "def f(x):\n",
    "    return x / 2"
   ]
  },
  {
   "cell_type": "code",
   "execution_count": 8,
   "id": "8b17f94a",
   "metadata": {},
   "outputs": [
    {
     "name": "stdout",
     "output_type": "stream",
     "text": [
      "Original Series:\n",
      "0     1\n",
      "1     2\n",
      "2     3\n",
      "3     4\n",
      "4     5\n",
      "5     6\n",
      "6     7\n",
      "7     8\n",
      "8     9\n",
      "9    10\n",
      "dtype: int64\n",
      "\n",
      "Transformed Series (f(x) = x/2):\n",
      "0    0.5\n",
      "1    1.0\n",
      "2    1.5\n",
      "3    2.0\n",
      "4    2.5\n",
      "5    3.0\n",
      "6    3.5\n",
      "7    4.0\n",
      "8    4.5\n",
      "9    5.0\n",
      "dtype: float64\n"
     ]
    }
   ],
   "source": [
    "# Apply the function to each element of the Series\n",
    "result_series = number_series.apply(f)\n",
    "\n",
    "# Print the original and transformed Series\n",
    "print(\"Original Series:\")\n",
    "print(number_series)\n",
    "\n",
    "print(\"\\nTransformed Series (f(x) = x/2):\")\n",
    "print(result_series)"
   ]
  },
  {
   "cell_type": "code",
   "execution_count": null,
   "id": "6dcbbe8c",
   "metadata": {},
   "outputs": [],
   "source": []
  }
 ],
 "metadata": {
  "kernelspec": {
   "display_name": "Python 3 (ipykernel)",
   "language": "python",
   "name": "python3"
  },
  "language_info": {
   "codemirror_mode": {
    "name": "ipython",
    "version": 3
   },
   "file_extension": ".py",
   "mimetype": "text/x-python",
   "name": "python",
   "nbconvert_exporter": "python",
   "pygments_lexer": "ipython3",
   "version": "3.11.3"
  }
 },
 "nbformat": 4,
 "nbformat_minor": 5
}
